{
 "cells": [
  {
   "cell_type": "code",
   "execution_count": 1,
   "metadata": {},
   "outputs": [],
   "source": [
    "#librerias a usar\n",
    "import pandas as pd \n",
    "import numpy as np\n",
    "import matplotlib.pyplot as plt\n",
    "import seaborn as sns"
   ]
  },
  {
   "cell_type": "code",
   "execution_count": 2,
   "metadata": {},
   "outputs": [],
   "source": [
    "#cargar archivo xlsx\n",
    "df = pd.read_excel('Datos de Facturación.xlsx')"
   ]
  },
  {
   "cell_type": "code",
   "execution_count": null,
   "metadata": {},
   "outputs": [],
   "source": [
    "#Verificamos información del DataFrame\n",
    "df.info()"
   ]
  },
  {
   "cell_type": "markdown",
   "metadata": {},
   "source": [
    "**1-CVE_CLPV      (valores: 1000 a 2000):**<br>\n",
    "En este ejercicio ocuparemos la operación & (AND) para obtener los registros donde el atributo CVE_CLPV sea mayor o igual a 1000 y menor o igual a 2000.<br>\n",
    "Aqui me aparecio un error, ya que al paracer algunos registros no son numericos, para eso use una funcionalidad para convertir la columna a númerica."
   ]
  },
  {
   "cell_type": "code",
   "execution_count": null,
   "metadata": {},
   "outputs": [],
   "source": [
    "# Convierte la columna \"CVE_CLPV\" a numérico\n",
    "df[\"CVE_CLPV\"] = pd.to_numeric(df[\"CVE_CLPV\"], errors='coerce')\n",
    "filtro1 = df[(df[\"CVE_CLPV\"] >= 1000) & (df[\"CVE_CLPV\"] <= 2000)]\n",
    "filtro1.to_csv(\"filtroAND.csv\") \n",
    "filtro1"
   ]
  },
  {
   "cell_type": "markdown",
   "metadata": {},
   "source": [
    "**2-CVE_VEND     (Todas las claves excepto “5” y “4”)** <br>\n",
    "Para este ejercicio use la negación y el AND, asi para negar a CVE_VEND donde sea 5 y 4, y despues unir las negaciones para que los registros <br>\n",
    "no tengan los valores no deseados."
   ]
  },
  {
   "cell_type": "code",
   "execution_count": null,
   "metadata": {},
   "outputs": [],
   "source": [
    "filtro2=df[~(df[\"CVE_VEND\"] == 5) & ~(df[\"CVE_VEND\"] == 4)]\n",
    "filtro2.to_csv(\"filtroNOT y AND.csv\")\n",
    "filtro2"
   ]
  },
  {
   "cell_type": "markdown",
   "metadata": {},
   "source": [
    "**3-FECHA_ENT   (Fechas de “28/02/2022”)** <br>\n",
    "Para este ejercicio use la variable FECHA_ENT la cual iguale a la fecha a la que necesitamos para obtener los registros con esa fecha.<br> Aparecio un error ya que en el .xlsx el tipo de variale es datetime, pero usando una funcion para convertir a tipo date se soluciono.\n"
   ]
  },
  {
   "cell_type": "code",
   "execution_count": null,
   "metadata": {},
   "outputs": [],
   "source": [
    "filtro3 = df[df[\"FECHA_ENT\"] == pd.to_datetime(\"2022-02-28\").date()]\n",
    "filtro3.to_csv(\"filtroPorObjeto_2022-02-28.csv\")\n",
    "filtro3"
   ]
  },
  {
   "cell_type": "markdown",
   "metadata": {},
   "source": [
    "**4-CAN_TOT       (Cantidades menores a 5951.7)   o  STATUS (“E”)**<br>\n",
    "Para este problema simplemente se usa OR, en este caso use la variable CAN_TOT cuando es menor que 5951.7 o que ESTATUS sea E"
   ]
  },
  {
   "cell_type": "code",
   "execution_count": null,
   "metadata": {},
   "outputs": [],
   "source": [
    "filtro4 = df[(df[\"CAN_TOT\"] < 5951.7) | (df[\"STATUS\"] == \"E\")]\n",
    "filtro4.to_csv(\"filtroOR.csv\")\n",
    "filtro4"
   ]
  },
  {
   "cell_type": "markdown",
   "metadata": {},
   "source": [
    "**5-Solo las columnas: CVE_DOC, FECHA_ENT, FECHA_VEN y CAN_TOT**<br>\n",
    "Para este ejercicio simplemente se selccionan y se muestran las variables CVE_DOC, FECHA_ENT, FECHA_VEN y CAN_TOT"
   ]
  },
  {
   "cell_type": "code",
   "execution_count": null,
   "metadata": {},
   "outputs": [],
   "source": [
    "filtro5 = df[[\"CVE_DOC\", \"FECHA_ENT\",\"FECHA_VEN\",\"CAN_TOT\"]]\n",
    "filtro5.to_csv(\"filtroColumnas.csv\")\n",
    "filtro5 "
   ]
  },
  {
   "cell_type": "markdown",
   "metadata": {},
   "source": [
    "**6-Solo las filas de 7001-7099**<br>\n",
    "En este ejercicio hizo falta usar la funcion range, para proporcionar una rango."
   ]
  },
  {
   "cell_type": "code",
   "execution_count": null,
   "metadata": {},
   "outputs": [],
   "source": [
    "filtro6= df.iloc[range(7001,7100), :] #Filas no consecutivas\n",
    "filtro6.to_csv(\"filtroPorFilas.csv\")\n",
    "filtro6"
   ]
  },
  {
   "cell_type": "markdown",
   "metadata": {},
   "source": [
    "**7-Index= CVE_VEND (valores: 1, 2)  (columna: FECHAELAB)**<br>\n",
    "En este ejercicio primero cargue el archivo de excel con el index_col = 3 ya que representa el atributo CVE_VEND. Depues simplemente use el filtro<br>\n",
    "FilasXColumnas, de tal manera que los valores de CVE_VEND se encuntren en 1 y 2, y que se muestre FECHAELAB cuando el registro presente <br>\n",
    "el valor 1 o 2."
   ]
  },
  {
   "cell_type": "code",
   "execution_count": null,
   "metadata": {},
   "outputs": [],
   "source": [
    "df1 = df = pd.read_excel('Datos de Facturación.xlsx', index_col=3)\n",
    "filtro7 = df1.loc[[1, 2], [\"FECHAELAB\"]]\n",
    "filtro7.to_csv(\"filtroPorFilasColumnas.csv\")\n",
    "filtro7\n"
   ]
  }
 ],
 "metadata": {
  "kernelspec": {
   "display_name": "Python 3",
   "language": "python",
   "name": "python3"
  },
  "language_info": {
   "codemirror_mode": {
    "name": "ipython",
    "version": 3
   },
   "file_extension": ".py",
   "mimetype": "text/x-python",
   "name": "python",
   "nbconvert_exporter": "python",
   "pygments_lexer": "ipython3",
   "version": "3.12.8"
  }
 },
 "nbformat": 4,
 "nbformat_minor": 2
}
