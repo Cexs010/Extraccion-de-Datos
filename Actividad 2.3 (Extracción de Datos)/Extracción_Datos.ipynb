{
 "cells": [
  {
   "cell_type": "code",
   "execution_count": 1,
   "metadata": {},
   "outputs": [],
   "source": [
    "#librerias a usar\n",
    "import pandas as pd \n",
    "import numpy as np\n",
    "import matplotlib.pyplot as plt\n",
    "import seaborn as sns"
   ]
  },
  {
   "cell_type": "code",
   "execution_count": 2,
   "metadata": {},
   "outputs": [],
   "source": [
    "#cargar archivo csv\n",
    "df = pd.read_csv('Tasmania.csv')"
   ]
  },
  {
   "cell_type": "code",
   "execution_count": 3,
   "metadata": {},
   "outputs": [
    {
     "name": "stdout",
     "output_type": "stream",
     "text": [
      "<class 'pandas.core.frame.DataFrame'>\n",
      "RangeIndex: 6230 entries, 0 to 6229\n",
      "Data columns (total 75 columns):\n",
      " #   Column                                        Non-Null Count  Dtype  \n",
      "---  ------                                        --------------  -----  \n",
      " 0   id                                            6230 non-null   int64  \n",
      " 1   listing_url                                   6230 non-null   object \n",
      " 2   scrape_id                                     6230 non-null   int64  \n",
      " 3   last_scraped                                  6230 non-null   object \n",
      " 4   source                                        6230 non-null   object \n",
      " 5   name                                          6230 non-null   object \n",
      " 6   description                                   6062 non-null   object \n",
      " 7   neighborhood_overview                         4132 non-null   object \n",
      " 8   picture_url                                   6230 non-null   object \n",
      " 9   host_id                                       6230 non-null   int64  \n",
      " 10  host_url                                      6230 non-null   object \n",
      " 11  host_name                                     6230 non-null   object \n",
      " 12  host_since                                    6230 non-null   object \n",
      " 13  host_location                                 4951 non-null   object \n",
      " 14  host_about                                    3757 non-null   object \n",
      " 15  host_response_time                            5260 non-null   object \n",
      " 16  host_response_rate                            5260 non-null   object \n",
      " 17  host_acceptance_rate                          5671 non-null   object \n",
      " 18  host_is_superhost                             6087 non-null   object \n",
      " 19  host_thumbnail_url                            6230 non-null   object \n",
      " 20  host_picture_url                              6230 non-null   object \n",
      " 21  host_neighbourhood                            52 non-null     object \n",
      " 22  host_listings_count                           6230 non-null   int64  \n",
      " 23  host_total_listings_count                     6230 non-null   int64  \n",
      " 24  host_verifications                            6230 non-null   object \n",
      " 25  host_has_profile_pic                          6230 non-null   object \n",
      " 26  host_identity_verified                        6230 non-null   object \n",
      " 27  neighbourhood                                 4132 non-null   object \n",
      " 28  neighbourhood_cleansed                        6230 non-null   object \n",
      " 29  neighbourhood_group_cleansed                  0 non-null      float64\n",
      " 30  latitude                                      6230 non-null   float64\n",
      " 31  longitude                                     6230 non-null   float64\n",
      " 32  property_type                                 6230 non-null   object \n",
      " 33  room_type                                     6230 non-null   object \n",
      " 34  accommodates                                  6230 non-null   int64  \n",
      " 35  bathrooms                                     5512 non-null   float64\n",
      " 36  bathrooms_text                                6225 non-null   object \n",
      " 37  bedrooms                                      6108 non-null   float64\n",
      " 38  beds                                          5503 non-null   float64\n",
      " 39  amenities                                     6230 non-null   object \n",
      " 40  price                                         5513 non-null   object \n",
      " 41  minimum_nights                                6230 non-null   int64  \n",
      " 42  maximum_nights                                6230 non-null   int64  \n",
      " 43  minimum_minimum_nights                        6230 non-null   int64  \n",
      " 44  maximum_minimum_nights                        6230 non-null   int64  \n",
      " 45  minimum_maximum_nights                        6230 non-null   int64  \n",
      " 46  maximum_maximum_nights                        6230 non-null   int64  \n",
      " 47  minimum_nights_avg_ntm                        6230 non-null   float64\n",
      " 48  maximum_nights_avg_ntm                        6230 non-null   float64\n",
      " 49  calendar_updated                              0 non-null      float64\n",
      " 50  has_availability                              6186 non-null   object \n",
      " 51  availability_30                               6230 non-null   int64  \n",
      " 52  availability_60                               6230 non-null   int64  \n",
      " 53  availability_90                               6230 non-null   int64  \n",
      " 54  availability_365                              6230 non-null   int64  \n",
      " 55  calendar_last_scraped                         6230 non-null   object \n",
      " 56  number_of_reviews                             6230 non-null   int64  \n",
      " 57  number_of_reviews_ltm                         6230 non-null   int64  \n",
      " 58  number_of_reviews_l30d                        6230 non-null   int64  \n",
      " 59  first_review                                  5865 non-null   object \n",
      " 60  last_review                                   5865 non-null   object \n",
      " 61  review_scores_rating                          5865 non-null   float64\n",
      " 62  review_scores_accuracy                        5865 non-null   float64\n",
      " 63  review_scores_cleanliness                     5865 non-null   float64\n",
      " 64  review_scores_checkin                         5865 non-null   float64\n",
      " 65  review_scores_communication                   5865 non-null   float64\n",
      " 66  review_scores_location                        5865 non-null   float64\n",
      " 67  review_scores_value                           5865 non-null   float64\n",
      " 68  license                                       5927 non-null   object \n",
      " 69  instant_bookable                              6230 non-null   object \n",
      " 70  calculated_host_listings_count                6230 non-null   int64  \n",
      " 71  calculated_host_listings_count_entire_homes   6230 non-null   int64  \n",
      " 72  calculated_host_listings_count_private_rooms  6230 non-null   int64  \n",
      " 73  calculated_host_listings_count_shared_rooms   6230 non-null   int64  \n",
      " 74  reviews_per_month                             5865 non-null   float64\n",
      "dtypes: float64(17), int64(23), object(35)\n",
      "memory usage: 3.6+ MB\n"
     ]
    }
   ],
   "source": [
    "#Verificamos información del DataFrame\n",
    "df.info()"
   ]
  },
  {
   "cell_type": "markdown",
   "metadata": {},
   "source": [
    "**a) Los registros de 5 \"host name\" diferentes**<br>\n",
    "Aqui use un enfoque raro, obtuve los 5 nombres de los primeros hostname, despues de eso ocuoe sus nombres para obtener los resgistros de cada <br>\n",
    "host name"
   ]
  },
  {
   "cell_type": "code",
   "execution_count": 44,
   "metadata": {},
   "outputs": [
    {
     "data": {
      "text/html": [
       "<div>\n",
       "<style scoped>\n",
       "    .dataframe tbody tr th:only-of-type {\n",
       "        vertical-align: middle;\n",
       "    }\n",
       "\n",
       "    .dataframe tbody tr th {\n",
       "        vertical-align: top;\n",
       "    }\n",
       "\n",
       "    .dataframe thead th {\n",
       "        text-align: right;\n",
       "    }\n",
       "</style>\n",
       "<table border=\"1\" class=\"dataframe\">\n",
       "  <thead>\n",
       "    <tr style=\"text-align: right;\">\n",
       "      <th></th>\n",
       "      <th>host_name</th>\n",
       "    </tr>\n",
       "  </thead>\n",
       "  <tbody>\n",
       "    <tr>\n",
       "      <th>0</th>\n",
       "      <td>Yvette</td>\n",
       "    </tr>\n",
       "    <tr>\n",
       "      <th>1</th>\n",
       "      <td>Melissa</td>\n",
       "    </tr>\n",
       "    <tr>\n",
       "      <th>2</th>\n",
       "      <td>Russell And Ingrid</td>\n",
       "    </tr>\n",
       "    <tr>\n",
       "      <th>3</th>\n",
       "      <td>Emma And Dale</td>\n",
       "    </tr>\n",
       "    <tr>\n",
       "      <th>4</th>\n",
       "      <td>Kit</td>\n",
       "    </tr>\n",
       "  </tbody>\n",
       "</table>\n",
       "</div>"
      ],
      "text/plain": [
       "            host_name\n",
       "0              Yvette\n",
       "1             Melissa\n",
       "2  Russell And Ingrid\n",
       "3       Emma And Dale\n",
       "4                 Kit"
      ]
     },
     "execution_count": 44,
     "metadata": {},
     "output_type": "execute_result"
    }
   ],
   "source": [
    "filtro1 = df[[\"host_name\"]].head(5)\n",
    "filtro1"
   ]
  },
  {
   "cell_type": "code",
   "execution_count": null,
   "metadata": {},
   "outputs": [],
   "source": [
    "filtro1 = df[\n",
    "    (df[\"host_name\"] == \"Yvette\") |\n",
    "    (df[\"host_name\"] == \"Melissa\") |\n",
    "    (df[\"host_name\"] == \"Russell And Ingrid\") |\n",
    "    (df[\"host_name\"] == \"Emma And Dale\") |\n",
    "    (df[\"host_name\"] == \"Kit\")\n",
    "]\n",
    "filtro1.to_csv(\"filtro_5host_name_diferentes.csv\") \n",
    "filtro1\n"
   ]
  },
  {
   "cell_type": "code",
   "execution_count": null,
   "metadata": {},
   "outputs": [],
   "source": [
    "filtro3 = df[\n",
    "    (df[\"host_response_time\"] == \"within an hour\" ) | \n",
    "    (df[\"host_response_time\"] == \"within a few hours\") | \n",
    "    (df[\"host_response_time\"] == \"within a day\")]\n",
    "filtro3.to_csv(\"filtroRespuestaHost.csv\")\n",
    "filtro3"
   ]
  },
  {
   "cell_type": "markdown",
   "metadata": {},
   "source": [
    "**b) Los registros de los host que se hallan unido a Airbnb \"Antes del año 2019\"**<br>\n",
    "Ocupe la variable host_since que nos da la fecha que se unieron los host, para obtener las que sean antes del 2019 simplemente usamos el filtro <br>\n",
    "de comparacion <.\n"
   ]
  },
  {
   "cell_type": "code",
   "execution_count": null,
   "metadata": {},
   "outputs": [],
   "source": [
    "filtro2 = df[df[\"host_since\"] < \"2019-01-01\"]\n",
    "filtro2.to_csv(\"filtroComparación_Antesde2019.csv\") \n",
    "filtro2"
   ]
  },
  {
   "cell_type": "code",
   "execution_count": null,
   "metadata": {},
   "outputs": [],
   "source": [
    "df2 = pd.read_csv('filtroComparación_Antesde2019.csv')\n",
    "filtro2 = df2[[\"host_since\"]]\n",
    "filtro2"
   ]
  },
  {
   "cell_type": "markdown",
   "metadata": {},
   "source": [
    "**c) Los registros de los host que responden \"a mas tardar en 1 dia\"**<br>\n",
    "Aqui ocupe el OR, ya que los host que responden a mas tardar en un dia tienen la variable host_response_time con los valores que se usan en el filtro.<br> "
   ]
  },
  {
   "cell_type": "code",
   "execution_count": null,
   "metadata": {},
   "outputs": [],
   "source": [
    "filtro3 = df[\n",
    "    (df[\"host_response_time\"] == \"within an hour\" ) | \n",
    "    (df[\"host_response_time\"] == \"within a few hours\") | \n",
    "    (df[\"host_response_time\"] == \"within a day\")]\n",
    "filtro3.to_csv(\"filtroRespuestaHost.csv\")\n",
    "filtro3"
   ]
  },
  {
   "cell_type": "markdown",
   "metadata": {},
   "source": [
    "**d) Los registros que tengan \"al menos 5 accommodates\"**<br>\n",
    "use la varibale accommodates cuando sea mayor o igual 5"
   ]
  },
  {
   "cell_type": "code",
   "execution_count": null,
   "metadata": {},
   "outputs": [],
   "source": [
    "filtro4 = df[df[\"accommodates\"] >= 5]\n",
    "filtro4.to_csv(\"filtroAccommodates.csv\")\n",
    "filtro4"
   ]
  },
  {
   "cell_type": "markdown",
   "metadata": {},
   "source": [
    "**e) Los registros de los tipos de cuarto: \"Entire home\" y \"Private room\"**<br>\n",
    "use room_type que contene el tipo de cuarto, y use el Or para obtener los registros cuando los cuartos sean: \"Entire home\" y \"Private room\""
   ]
  },
  {
   "cell_type": "code",
   "execution_count": null,
   "metadata": {},
   "outputs": [],
   "source": [
    "filtro5 = df[\n",
    "    (df[\"room_type\"] == \"Entire home/apt\") |\n",
    "    (df[\"room_type\"] == \"Private room\") \n",
    "]\n",
    "filtro5.to_csv(\"filtroTiposCuarto.csv\")\n",
    "filtro5\n"
   ]
  },
  {
   "cell_type": "markdown",
   "metadata": {},
   "source": [
    "**f) Los registros que \"a lo mucho cuenten con 4 camas\"**<br>\n",
    "use la varibale beds menos o igual a 4 para obtener los registros que cuenten con a lo mucho 4 camas"
   ]
  },
  {
   "cell_type": "code",
   "execution_count": null,
   "metadata": {},
   "outputs": [],
   "source": [
    "filtro6 = df[df[\"beds\"] <= 4]\n",
    "filtro6.to_csv(\"filtroCamas.csv\")\n",
    "filtro6"
   ]
  },
  {
   "cell_type": "markdown",
   "metadata": {},
   "source": [
    "**g) Los registros que \"tengan 1 baño o que sean superhost\" pero con la condición de que \"todos sean instant_bookable\"**<br>\n",
    "use OR y AND, ademas use las variables bathroos, host_is_superhost y instant_bookable. Asi logre hacer un script qur <br>\n",
    "obtenga los registros que tengan 1 baño o sean superhost y que sean instant bookable."
   ]
  },
  {
   "cell_type": "code",
   "execution_count": null,
   "metadata": {},
   "outputs": [],
   "source": [
    "filtro7 = df[\n",
    "    ((df[\"bathrooms\"] == 1) | (df[\"host_is_superhost\"] == \"t\")) & \n",
    "    (df[\"instant_bookable\"] == \"t\")\n",
    "]\n",
    "filtro7.to_csv(\"filtro_Baño=1_superhost_instantBookable.csv\")\n",
    "filtro7\n"
   ]
  },
  {
   "cell_type": "markdown",
   "metadata": {},
   "source": [
    "**h) Los registros cuyo \"review_scores_cleanliness sea menor de 3 y review_scores_raiting sea mayor de 3\"**<br>\n",
    "finalmente use las variables review_scores_cleanliness y review_scores_raiting que son de tipo int.<br>\n",
    "Para obtener los registros donde review_scores_cleanliness < 3 y review_scores_raiting > 3, use AND, simplemente uni la sentencia y obtuve los registros."
   ]
  },
  {
   "cell_type": "code",
   "execution_count": null,
   "metadata": {},
   "outputs": [],
   "source": [
    "filtro8 = df[\n",
    "    (df[\"review_scores_cleanliness\"] < 3) &\n",
    "    (df[\"review_scores_rating\"] > 3)\n",
    "]\n",
    "filtro8.to_csv(\"filtro_Limpieza_menorQue3_Calificación_mayorQue3.csv\", index=False)\n",
    "filtro8\n"
   ]
  }
 ],
 "metadata": {
  "kernelspec": {
   "display_name": "Python 3",
   "language": "python",
   "name": "python3"
  },
  "language_info": {
   "codemirror_mode": {
    "name": "ipython",
    "version": 3
   },
   "file_extension": ".py",
   "mimetype": "text/x-python",
   "name": "python",
   "nbconvert_exporter": "python",
   "pygments_lexer": "ipython3",
   "version": "3.12.8"
  }
 },
 "nbformat": 4,
 "nbformat_minor": 2
}
